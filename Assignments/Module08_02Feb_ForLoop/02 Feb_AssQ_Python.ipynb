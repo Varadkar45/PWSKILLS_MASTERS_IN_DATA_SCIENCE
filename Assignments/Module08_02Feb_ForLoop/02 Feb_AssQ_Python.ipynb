{
 "cells": [
  {
   "cell_type": "markdown",
   "id": "6aed0fb7-601a-4287-bf90-e4e7958d42c5",
   "metadata": {},
   "source": [
    "Python Assignment Questions"
   ]
  },
  {
   "cell_type": "markdown",
   "id": "bb66f8ba-b29f-497a-a80e-08626f65130d",
   "metadata": {},
   "source": [
    "Q1. Explain with an example each when to use a for loop and a while loop.\n"
   ]
  },
  {
   "cell_type": "markdown",
   "id": "044243c8-a468-498f-aee2-82ba947c8258",
   "metadata": {},
   "source": [
    "-> A for loop is typically used when you know the exact number of iterations you need to perform. It's ideal for iterating over a sequence (like a list, tuple, or string) or when you have a clear range to iterate through \n",
    "\n",
    "Example: Iterating over a list of numbers to print each one."
   ]
  },
  {
   "cell_type": "code",
   "execution_count": 1,
   "id": "63d607a6-fc24-4a95-8fc5-73109dac8f15",
   "metadata": {},
   "outputs": [
    {
     "name": "stdout",
     "output_type": "stream",
     "text": [
      "1\n",
      "2\n",
      "3\n",
      "4\n",
      "5\n"
     ]
    }
   ],
   "source": [
    "numbers = [1, 2, 3, 4, 5]\n",
    "\n",
    "for number in numbers:\n",
    "    print(number)"
   ]
  },
  {
   "cell_type": "markdown",
   "id": "ae1e11bf-71c9-4fe6-b14a-49b531e3059f",
   "metadata": {},
   "source": [
    "In this example, we know the exact number of elements in the list numbers, and we want to perform the same action (printing) for each element. A for loop is perfect here because it automatically handles the iteration over the list"
   ]
  },
  {
   "cell_type": "markdown",
   "id": "a85d7819-9c59-45f9-84af-f0f4c1723172",
   "metadata": {},
   "source": [
    "A while loop is typically used when the number of iterations is not known beforehand and depends on a condition. The loop continues to execute as long as the condition remains true"
   ]
  },
  {
   "cell_type": "code",
   "execution_count": 3,
   "id": "09b94528-c282-4ccc-a597-bdf51581e0f4",
   "metadata": {},
   "outputs": [
    {
     "name": "stdout",
     "output_type": "stream",
     "text": [
      "The first power of 2 greater than 1000 is 2^10 = 1024\n"
     ]
    }
   ],
   "source": [
    "power = 1\n",
    "result = 2\n",
    "\n",
    "while result <= 1000:\n",
    "    power += 1\n",
    "    result = 2 ** power\n",
    "\n",
    "print(f\"The first power of 2 greater than 1000 is 2^{power} = {result}\")\n"
   ]
  },
  {
   "cell_type": "markdown",
   "id": "b1b1c374-21eb-4417-a1ec-1ab56e54def9",
   "metadata": {},
   "source": [
    "In this example, we don't know how many times we need to multiply 2 by itself to get a value greater than 1000. The while loop continues to execute as long as result is less than or equal to 1000. Once result exceeds 1000, the loop stops, and we print the result"
   ]
  },
  {
   "cell_type": "markdown",
   "id": "4045d6d2-9f9c-4066-816f-449156d25bfa",
   "metadata": {},
   "source": [
    "Q2. Write a python program to print the sum and product of the first 10 natural numbers using for\n",
    "and while loop.\n"
   ]
  },
  {
   "cell_type": "markdown",
   "id": "641c5d8b-4d33-4732-b1eb-7e0116547d69",
   "metadata": {},
   "source": [
    "Using a For Loop"
   ]
  },
  {
   "cell_type": "code",
   "execution_count": 7,
   "id": "09038675-efc0-4691-8a7c-5fb2ab801ce1",
   "metadata": {},
   "outputs": [
    {
     "name": "stdout",
     "output_type": "stream",
     "text": [
      "Using for loop:\n",
      "Sum of the first 10 natural numbers: 55\n",
      "Product of the first 10 natural numbers: 3628800\n"
     ]
    }
   ],
   "source": [
    "# Sum and product using a for loop\n",
    "sum_for = 0\n",
    "product_for = 1\n",
    "\n",
    "for number in range(1, 11):\n",
    "    sum_for += number\n",
    "    product_for *= number\n",
    "\n",
    "print(\"Using for loop:\")\n",
    "print(\"Sum of the first 10 natural numbers:\", sum_for)\n",
    "print(\"Product of the first 10 natural numbers:\", product_for)\n"
   ]
  },
  {
   "cell_type": "markdown",
   "id": "61c1789c-fd7c-444e-a298-7742aa3bb590",
   "metadata": {},
   "source": [
    "Using While Loop"
   ]
  },
  {
   "cell_type": "code",
   "execution_count": 8,
   "id": "f6c78fbb-a2aa-4ac2-af88-52684813ef11",
   "metadata": {},
   "outputs": [
    {
     "name": "stdout",
     "output_type": "stream",
     "text": [
      "Using while loop:\n",
      "Sum of the first 10 natural numbers: 55\n",
      "Product of the first 10 natural numbers: 3628800\n"
     ]
    }
   ],
   "source": [
    "# Sum and product using a while loop\n",
    "sum_while = 0\n",
    "product_while = 1\n",
    "number = 1\n",
    "\n",
    "while number <= 10:\n",
    "    sum_while += number\n",
    "    product_while *= number\n",
    "    number += 1\n",
    "\n",
    "print(\"Using while loop:\")\n",
    "print(\"Sum of the first 10 natural numbers:\", sum_while)\n",
    "print(\"Product of the first 10 natural numbers:\", product_while)\n"
   ]
  },
  {
   "cell_type": "markdown",
   "id": "f7b95a2e-d243-4177-90e9-309bec2a3b41",
   "metadata": {},
   "source": [
    "Q3. Create a python program to compute the electricity bill for a household.\n",
    "\n",
    "The per-unit charges in rupees are as follows: For the first 100 units, the user will be charged Rs. 4.5 per\n",
    "unit, for the next 100 units, the user will be charged Rs. 6 per unit, and for the next 100 units, the user will\n",
    "be charged Rs. 10 per unit, After 300 units and above the user will be charged Rs. 20 per unit.\n",
    "You are required to take the units of electricity consumed in a month from the user as input.\n",
    "Your program must pass this test case: when the unit of electricity consumed by the user in a month is\n",
    "310, the total electricity bill should be 2250."
   ]
  },
  {
   "cell_type": "code",
   "execution_count": 13,
   "id": "0fc01395-34d0-4836-8327-2dac37e7572b",
   "metadata": {},
   "outputs": [
    {
     "name": "stdin",
     "output_type": "stream",
     "text": [
      "Enter the units of electricity consumed:  310\n"
     ]
    },
    {
     "name": "stdout",
     "output_type": "stream",
     "text": [
      "The total electricity bill is: Rs. 2250.0\n"
     ]
    }
   ],
   "source": [
    "def calculate_electricity_bill(units):\n",
    "    total_bill = 0\n",
    "\n",
    "    if units <= 100:\n",
    "        total_bill = units * 4.5\n",
    "    elif units <= 200:\n",
    "        total_bill = 100 * 4.5 + (units - 100) * 6\n",
    "    elif units <= 300:\n",
    "        total_bill = 100 * 4.5 + 100 * 6 + (units - 200) * 10\n",
    "    else:\n",
    "        total_bill = 100 * 4.5 + 100 * 6 + 100 * 10 + (units - 300) * 20\n",
    "\n",
    "    return total_bill\n",
    "\n",
    "\n",
    "units_consumed = int(input(\"Enter the units of electricity consumed: \"))\n",
    "bill_amount = calculate_electricity_bill(units_consumed)\n",
    "print(f\"The total electricity bill is: Rs. {bill_amount}\")"
   ]
  },
  {
   "cell_type": "markdown",
   "id": "6a12fb03-3711-4fc7-a487-92ea60e66cc0",
   "metadata": {},
   "source": [
    "Q4. Create a list of numbers from 1 to 100. Use for loop and while loop to calculate the cube of each\n",
    "number and if the cube of that number is divisible by 4 or 5 then append that number in a list and print\n",
    "that list."
   ]
  },
  {
   "cell_type": "code",
   "execution_count": 15,
   "id": "a9e0416a-58dc-434f-89f3-7981f4f2aa0c",
   "metadata": {},
   "outputs": [
    {
     "name": "stdout",
     "output_type": "stream",
     "text": [
      "Using for loop: [2, 4, 5, 6, 8, 10, 12, 14, 15, 16, 18, 20, 22, 24, 25, 26, 28, 30, 32, 34, 35, 36, 38, 40, 42, 44, 45, 46, 48, 50, 52, 54, 55, 56, 58, 60, 62, 64, 65, 66, 68, 70, 72, 74, 75, 76, 78, 80, 82, 84, 85, 86, 88, 90, 92, 94, 95, 96, 98, 100]\n"
     ]
    }
   ],
   "source": [
    "# Using a for loop\n",
    "numbers = list(range(1, 101))\n",
    "divisible_by_4_or_5_for_loop = []\n",
    "\n",
    "for number in numbers:\n",
    "    cube = number ** 3\n",
    "    if cube % 4 == 0 or cube % 5 == 0:\n",
    "        divisible_by_4_or_5_for_loop.append(number)\n",
    "\n",
    "print(\"Using for loop:\", divisible_by_4_or_5_for_loop)"
   ]
  },
  {
   "cell_type": "code",
   "execution_count": 16,
   "id": "2c3151b9-0f3c-449c-9408-5601fd1c2c38",
   "metadata": {},
   "outputs": [
    {
     "name": "stdout",
     "output_type": "stream",
     "text": [
      "Using while loop: [2, 4, 5, 6, 8, 10, 12, 14, 15, 16, 18, 20, 22, 24, 25, 26, 28, 30, 32, 34, 35, 36, 38, 40, 42, 44, 45, 46, 48, 50, 52, 54, 55, 56, 58, 60, 62, 64, 65, 66, 68, 70, 72, 74, 75, 76, 78, 80, 82, 84, 85, 86, 88, 90, 92, 94, 95, 96, 98, 100]\n"
     ]
    }
   ],
   "source": [
    "# Using a while loop\n",
    "divisible_by_4_or_5_while_loop = []\n",
    "index = 0\n",
    "\n",
    "while index < len(numbers):\n",
    "    number = numbers[index]\n",
    "    cube = number ** 3\n",
    "    if cube % 4 == 0 or cube % 5 == 0:\n",
    "        divisible_by_4_or_5_while_loop.append(number)\n",
    "    index += 1\n",
    "\n",
    "print(\"Using while loop:\", divisible_by_4_or_5_while_loop)\n"
   ]
  },
  {
   "cell_type": "markdown",
   "id": "0c3c1e37-6127-4447-9bed-86a2509e666d",
   "metadata": {},
   "source": [
    "Q5. Write a program to filter count vowels in the below-given string.\n",
    "\n",
    "string = \"I want to become a data scientist\""
   ]
  },
  {
   "cell_type": "code",
   "execution_count": 17,
   "id": "1eb21e51-cbf0-4b05-9ef7-7b28a7b7b506",
   "metadata": {},
   "outputs": [
    {
     "name": "stdout",
     "output_type": "stream",
     "text": [
      "The number of vowels in the given string is: 12\n"
     ]
    }
   ],
   "source": [
    "def count_vowels(input_string):\n",
    "    vowels = 'aeiouAEIOU'\n",
    "    count = 0\n",
    "\n",
    "    for char in input_string:\n",
    "        if char in vowels:\n",
    "            count += 1\n",
    "\n",
    "    return count\n",
    "\n",
    "string = \"I want to become a data scientist\"\n",
    "vowel_count = count_vowels(string)\n",
    "print(f\"The number of vowels in the given string is: {vowel_count}\")\n"
   ]
  }
 ],
 "metadata": {
  "kernelspec": {
   "display_name": "Python 3 (ipykernel)",
   "language": "python",
   "name": "python3"
  },
  "language_info": {
   "codemirror_mode": {
    "name": "ipython",
    "version": 3
   },
   "file_extension": ".py",
   "mimetype": "text/x-python",
   "name": "python",
   "nbconvert_exporter": "python",
   "pygments_lexer": "ipython3",
   "version": "3.10.8"
  }
 },
 "nbformat": 4,
 "nbformat_minor": 5
}
