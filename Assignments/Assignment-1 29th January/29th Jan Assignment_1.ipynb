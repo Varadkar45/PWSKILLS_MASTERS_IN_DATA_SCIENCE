{
 "cells": [
  {
   "cell_type": "markdown",
   "id": "47b9d809-5eba-4a98-a8e0-7892a7c311c3",
   "metadata": {},
   "source": [
    "# Assignment 1"
   ]
  },
  {
   "cell_type": "markdown",
   "id": "54dba91d-f43b-4ca7-a493-17c40bb22fc4",
   "metadata": {
    "tags": []
   },
   "source": [
    "## 1. Who developed Python Programming Language?\n",
    "\n",
    "**Ans.** Python was developed by Guido van Rossum, and released in 1991.\n"
   ]
  },
  {
   "cell_type": "markdown",
   "id": "2f4e996f-c2a4-411a-be27-f2bb579e7cc7",
   "metadata": {},
   "source": [
    "## 2.  Which type of Programming does Python support?\n",
    "\n",
    "**Ans.** Python is an interpreted programming language, supporting object-oriented programming (OOP), structured programming, and functional programming.\n"
   ]
  },
  {
   "cell_type": "markdown",
   "id": "d92487ee-5806-44c8-b1ce-0bd8424483aa",
   "metadata": {},
   "source": [
    "## 3. Is Python case sensitive when dealing with identifiers?\n",
    "\n",
    "**Ans.** Yes, Python is case sensitive when dealing with identifiers."
   ]
  },
  {
   "cell_type": "markdown",
   "id": "347f3edb-5f10-4118-9f92-517271e65911",
   "metadata": {},
   "source": [
    "## 4. What is the correct extension of the Python file?\n",
    "\n",
    "**Ans.** The extensions for Python files are - . py"
   ]
  },
  {
   "cell_type": "markdown",
   "id": "3a284529-9cd2-4b31-86a3-1ad42f3a3826",
   "metadata": {},
   "source": [
    "## 5. Is Python code compiled or Interpreted?\n",
    "\n",
    "**Ans.** Python is an interpreted language and it runs through an interpreter during compilation unlike C++ is a pre-compiled programming language and doesn't need any interpreter during compilation.."
   ]
  },
  {
   "cell_type": "markdown",
   "id": "f800e7dd-60c9-47e2-bbce-c0203791c211",
   "metadata": {},
   "source": [
    "## 6. Name a few blocks of code used to define In Python language? \n",
    "**Ans.** In Python, there are several blocks of code that are used to define different structures, including:\n",
    "1) Functions: Functions are blocks of code that perform a specific task and can be called multiple times in a program. They are defined using the \"def\" keyword, followed by the function name and the function parameters in parentheses.\n",
    "2) Classes: Classes are blocks of code that define objects and their behaviors. They are defined using the \"class\" keyword, followed by the class name and a colon.\n",
    "3) Loops: Loops are blocks of code that repeat a set of instructions for a specified number of times or until a certain condition is met. There are two main types of loops in Python: \"for\" loops and \"while\" loops.\n",
    "4) Conditional statements: Conditional statements are blocks of code that execute a set of instructions based on a condition. The two main types of conditional statements in Python are \"if\" statements and \"if-else\" statements.\n",
    "5) Try-except blocks: Try-except blocks are blocks of code used to handle exceptions (errors) that may occur during the execution of a program. The \"try\" block contains the code that may raise an exception, and the \"except\" block contains the code that will be executed if an exception occurs."
   ]
  },
  {
   "cell_type": "markdown",
   "id": "342d77d2-4a07-4752-b411-6e27d15c4c9c",
   "metadata": {},
   "source": [
    "## 7. State a character used to give single-line comments in Python?\n",
    "\n",
    "**Ans.** single # character"
   ]
  },
  {
   "cell_type": "markdown",
   "id": "0cbff6fb-da41-47ea-9d8a-ff722f30ab0d",
   "metadata": {},
   "source": [
    "## 8. Mention functions which can help us to find the version of python that we are currently working on?\n",
    "## Ans."
   ]
  },
  {
   "cell_type": "code",
   "execution_count": 13,
   "id": "da92add7-2afd-4275-ae98-4ada38b293a2",
   "metadata": {},
   "outputs": [
    {
     "name": "stdout",
     "output_type": "stream",
     "text": [
      "User Current Version:- 3.10.8 | packaged by conda-forge | (main, Nov 22 2022, 08:26:04) [GCC 10.4.0]\n"
     ]
    }
   ],
   "source": [
    "import sys \n",
    "print(\"User Current Version:-\", sys.version)"
   ]
  },
  {
   "cell_type": "markdown",
   "id": "24e64372-b006-4853-ae89-95464a54b985",
   "metadata": {},
   "source": [
    "## 9. Python supports the creation of anonymous functions at runtime, using a construct called?\n",
    "**Ans.** Python supports the creation of anonymous functions (i.e. functions that are not bound to a name) at runtime, using a construct called lambda."
   ]
  },
  {
   "cell_type": "markdown",
   "id": "fbaffc05-da6c-401c-b27c-d178f6a03f02",
   "metadata": {},
   "source": [
    "## 10. What does pip stand for python?\n",
    "**Ans.** PIP is a recursive acronym for “Preferred Installer Program” or PIP Installs Packages"
   ]
  },
  {
   "cell_type": "markdown",
   "id": "cd7d7454-ff73-42b8-a939-7caea104c837",
   "metadata": {},
   "source": [
    "## 11. Mention a few built-in functions in python?\n",
    "**Ans.** \n",
    "1) print( ) function\n",
    "2) type( ) function\n",
    "3) input( ) function\n",
    "4) abs( ) function\n",
    "5) pow( ) function\n",
    "6) sum( ) function\n"
   ]
  },
  {
   "cell_type": "markdown",
   "id": "032c7bd3-d17a-4a26-b292-f1315e67abe9",
   "metadata": {},
   "source": [
    "## 12. What is the maximum possible length of an identifier in Python?\n",
    "**Ans.** An identifier can have a maximum length of 79 characters in Python. "
   ]
  },
  {
   "cell_type": "markdown",
   "id": "1aecbaf2-0c46-4189-a674-fe0aba0c4322",
   "metadata": {},
   "source": [
    "## 13. What are the benefits of using Python? \n",
    "**Ans.** There are many benefits to using Python, including:\n",
    "1) Easy to learn and use: Python has a simple and straight forward syntax, making it easy for new programmers to learn and use.\n",
    "2) High-level programming language: Python provides high-level data structures and supports dynamic typing, making it a good choice for complex applications.\n",
    "3) Versatile: Python is used in a wide range of applications, including web development, scientific computing, data analysis, artificial intelligence, and more.\n",
    "4) Large community: Python has a large and active community of developers who contribute to the development of the language and provide support to its users.\n",
    "5) Open-source: Python is an open-source language, which means that it is free to use and modify, and there are many resources available for learning and using it.\n",
    "6) Cross-platform compatibility: Python can run on many different operating systems, including Windows, MacOS, and Linux, making it a versatile choice for developers."
   ]
  },
  {
   "cell_type": "markdown",
   "id": "7e7343e1-16c7-4032-aefd-f90432a132b1",
   "metadata": {},
   "source": [
    "## 14. How is memory managed in Python?\n",
    "**Ans.**  Memory management in Python involves a private heap containing all Python objects and data structures. The management of this private heap is ensured internally by the Python memory manager. The Python memory manager has different components which deal with various dynamic storage management aspects, like sharing, segmentation, preallocation or caching."
   ]
  },
  {
   "cell_type": "markdown",
   "id": "779dec61-ace0-43b2-93ba-ee1562ddef71",
   "metadata": {},
   "source": [
    "## 15. How to Install Python on Windows and set path variables?\n",
    "**Ans.** Install python from this link https://www.python.org/downloads/\n",
    "\n",
    "After this, install it on your PC. \n",
    "Look for the location where PYTHON has been installed on your PC using tge following command on your command prompt: cmd python.\n",
    "Then go to advanced system settings and add new variable and name it as PYTHON_NAME and paste the copied path.\n",
    "Then look for the path variable, select it's value and select edit\n",
    "Add a semicolon towards the end of the value if it's not present and then type %PYTHON_HOME%"
   ]
  },
  {
   "cell_type": "markdown",
   "id": "a613601f-9fdd-4f00-8b2e-b5cc30cce117",
   "metadata": {},
   "source": [
    "## 16. is indentation required in python?\n",
    "**Ans.** Yes"
   ]
  }
 ],
 "metadata": {
  "kernelspec": {
   "display_name": "Python 3 (ipykernel)",
   "language": "python",
   "name": "python3"
  },
  "language_info": {
   "codemirror_mode": {
    "name": "ipython",
    "version": 3
   },
   "file_extension": ".py",
   "mimetype": "text/x-python",
   "name": "python",
   "nbconvert_exporter": "python",
   "pygments_lexer": "ipython3",
   "version": "3.10.8"
  }
 },
 "nbformat": 4,
 "nbformat_minor": 5
}
