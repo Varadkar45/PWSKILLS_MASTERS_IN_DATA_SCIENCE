{
 "cells": [
  {
   "cell_type": "markdown",
   "id": "d7119e86-afd7-45ed-8814-cfc9f88c08c3",
   "metadata": {},
   "source": [
    "Assignment"
   ]
  },
  {
   "cell_type": "markdown",
   "id": "e16f912e-ce2a-427a-878a-9394c4e43417",
   "metadata": {},
   "source": [
    "Q1. Which keyword is used to create a function? Create a function to return a list of odd numbers in the\n",
    "range of 1 to 25.\n"
   ]
  },
  {
   "cell_type": "markdown",
   "id": "5848c7f5-f5d6-42ef-9cb7-5702861a1c2a",
   "metadata": {},
   "source": [
    "In Python, the keyword used to create a function is def.\n",
    "\n",
    "Here's a function to return a list of odd numbers in the range of 1 to 25:"
   ]
  },
  {
   "cell_type": "code",
   "execution_count": 2,
   "id": "3bc93881-ed6c-4d25-be77-a26787eb5954",
   "metadata": {},
   "outputs": [
    {
     "name": "stdout",
     "output_type": "stream",
     "text": [
      "[1, 3, 5, 7, 9, 11, 13, 15, 17, 19, 21, 23, 25]\n"
     ]
    }
   ],
   "source": [
    "def odd_numbers():\n",
    "    return [i for i in range(1, 26) if i % 2 != 0]\n",
    "\n",
    "odd_list = odd_numbers()\n",
    "print(odd_list)\n"
   ]
  },
  {
   "cell_type": "markdown",
   "id": "1f4e7e8e-a7ce-4f2a-8abb-bed127c5b0fe",
   "metadata": {},
   "source": [
    "Q2. Why *args and **kwargs is used in some functions? Create a function each for *args and **kwargs\n",
    "to demonstrate their use."
   ]
  },
  {
   "cell_type": "markdown",
   "id": "1d859f43-728c-4406-8328-e69c66833e2d",
   "metadata": {},
   "source": [
    "In Python, *args and **kwargs are used to pass a variable number of arguments to a function.\n",
    "\n",
    "*args allows you to pass a variable number of non-keyword arguments to a function.\n",
    "**kwargs allows you to pass a variable number of keyword arguments to a function.\n",
    "Here are examples demonstrating their use:\n",
    "\n",
    "Using *args\n",
    "\n",
    "The *args parameter allows a function to accept any number of positional arguments."
   ]
  },
  {
   "cell_type": "code",
   "execution_count": 4,
   "id": "64fc3f20-8828-4312-a596-4e8626f588c4",
   "metadata": {},
   "outputs": [
    {
     "name": "stdout",
     "output_type": "stream",
     "text": [
      "15\n"
     ]
    }
   ],
   "source": [
    "def sum_all(*args):\n",
    "    return sum(args)\n",
    "\n",
    "result = sum_all(1, 2, 3, 4, 5)\n",
    "print(result)"
   ]
  },
  {
   "cell_type": "markdown",
   "id": "64402100-6fb8-46da-9edf-4df9c7ecd18a",
   "metadata": {},
   "source": [
    "Using **kwargs\n",
    "\n",
    "The **kwargs parameter allows a function to accept any number of keyword arguments."
   ]
  },
  {
   "cell_type": "code",
   "execution_count": 5,
   "id": "9d7d23cf-e322-42a4-ae85-6246d7e07629",
   "metadata": {},
   "outputs": [
    {
     "name": "stdout",
     "output_type": "stream",
     "text": [
      "name: Alice\n",
      "age: 30\n",
      "city: New York\n"
     ]
    }
   ],
   "source": [
    "def print_person_info(**kwargs):\n",
    "    for key, value in kwargs.items():\n",
    "        print(f\"{key}: {value}\")\n",
    "\n",
    "print_person_info(name=\"Alice\", age=30, city=\"New York\")"
   ]
  },
  {
   "cell_type": "markdown",
   "id": "94a33440-5607-4c4d-b698-51ed923f8bf9",
   "metadata": {},
   "source": [
    "These examples demonstrate how *args and **kwargs can be used to create functions that are flexible in terms of the number and types of arguments they can accept"
   ]
  },
  {
   "cell_type": "markdown",
   "id": "32bf0d71-75a6-492b-92f0-d4099795840e",
   "metadata": {},
   "source": [
    "Q3. What is an iterator in python? Name the method used to initialise the iterator object and the method\n",
    "used for iteration. Use these methods to print the first five elements of the given list [2, 4, 6, 8, 10, 12, 14,\n",
    "16, 18, 20]."
   ]
  },
  {
   "cell_type": "markdown",
   "id": "bce0928d-db91-44ee-b754-f6e49e5d6309",
   "metadata": {},
   "source": [
    "In Python, an iterator is an object that allows you to traverse through all the elements of a collection (such as a list or tuple) one at a time. An iterator object implements two methods:\n",
    "\n",
    "__iter__() - This method initializes the iterator object and returns itself.\n",
    "\n",
    "__next__() - This method returns the next value from the iterator. If there are no more items to return, it raises the StopIteration exception.\n",
    "\n",
    "Here's how you can use these methods to print the first five elements of the given list [2, 4, 6, 8, 10, 12, 14, 16, 18, 20]"
   ]
  },
  {
   "cell_type": "code",
   "execution_count": 6,
   "id": "f29614b1-9f49-4f1d-a93a-4ad6e76c0578",
   "metadata": {},
   "outputs": [
    {
     "name": "stdout",
     "output_type": "stream",
     "text": [
      "2\n",
      "4\n",
      "6\n",
      "8\n",
      "10\n"
     ]
    }
   ],
   "source": [
    "# List to iterate over\n",
    "my_list = [2, 4, 6, 8, 10, 12, 14, 16, 18, 20]\n",
    "\n",
    "# Getting the iterator object\n",
    "iterator = iter(my_list)\n",
    "\n",
    "# Printing the first five elements using the iterator\n",
    "for _ in range(5):\n",
    "    print(next(iterator))"
   ]
  },
  {
   "cell_type": "markdown",
   "id": "690e6ba7-7a84-4372-996e-c2ee629475af",
   "metadata": {},
   "source": [
    "Q4. What is a generator function in python? Why yield keyword is used? Give an example of a generator\n",
    "function."
   ]
  },
  {
   "cell_type": "markdown",
   "id": "3bca9525-45b8-4c1c-9cac-156cfc66abed",
   "metadata": {},
   "source": [
    "Generator function in python returns an iterator object that produce sequence of number that when iterated over and it is the most efficient way to create large sequence of numbers without saving them.\n",
    "\n",
    "Yield is the method use in generator used to output each result of each instance of the code operation iteration, this method returns generator object instead of values.\n",
    "\n",
    "Range function is an example of generator function"
   ]
  },
  {
   "cell_type": "code",
   "execution_count": 2,
   "id": "03dd4f55-44c5-49c6-ac1a-64b49c36dad4",
   "metadata": {},
   "outputs": [],
   "source": [
    "## creating a generator function\n",
    "def natural_number(n):\n",
    "    a = 0\n",
    "    for i in range(n):\n",
    "        yield a\n",
    "        a += 1"
   ]
  },
  {
   "cell_type": "code",
   "execution_count": 3,
   "id": "138bbf68-5567-4e36-8e1a-843cab4be147",
   "metadata": {},
   "outputs": [
    {
     "name": "stdout",
     "output_type": "stream",
     "text": [
      "0\n",
      "1\n",
      "2\n",
      "3\n",
      "4\n",
      "5\n",
      "6\n",
      "7\n",
      "8\n",
      "9\n"
     ]
    }
   ],
   "source": [
    "for i in natural_number(10): ## just created generator function same as range\n",
    "    print(i)"
   ]
  },
  {
   "cell_type": "markdown",
   "id": "f30a0b78-a496-41d6-951a-ed76afba86fe",
   "metadata": {},
   "source": [
    "Q5. Create a generator function for prime numbers less than 1000. Use the next() method to print the\n",
    "first 20 prime numbers."
   ]
  },
  {
   "cell_type": "code",
   "execution_count": 4,
   "id": "499aa116-6b91-40dc-af62-55d2b2903c5d",
   "metadata": {},
   "outputs": [
    {
     "name": "stdout",
     "output_type": "stream",
     "text": [
      "2\n",
      "3\n",
      "5\n",
      "7\n",
      "11\n",
      "13\n",
      "17\n",
      "19\n",
      "23\n",
      "29\n",
      "31\n",
      "37\n",
      "41\n",
      "43\n",
      "47\n",
      "53\n",
      "59\n",
      "61\n",
      "67\n",
      "71\n"
     ]
    }
   ],
   "source": [
    "def prime_generator(limit):\n",
    "    \"\"\"A generator function that yields prime numbers less than a given limit.\"\"\"\n",
    "    def is_prime(n):\n",
    "        \"\"\"Check if a number is prime.\"\"\"\n",
    "        if n <= 1:\n",
    "            return False\n",
    "        if n <= 3:\n",
    "            return True\n",
    "        if n % 2 == 0 or n % 3 == 0:\n",
    "            return False\n",
    "        i = 5\n",
    "        while i * i <= n:\n",
    "            if n % i == 0 or n % (i + 2) == 0:\n",
    "                return False\n",
    "            i += 6\n",
    "        return True\n",
    "\n",
    "    for num in range(2, limit):\n",
    "        if is_prime(num):\n",
    "            yield num\n",
    "\n",
    "# Create the generator\n",
    "gen = prime_generator(1000)\n",
    "\n",
    "# Print the first 20 prime numbers\n",
    "count = 0\n",
    "while count < 20:\n",
    "    print(next(gen))\n",
    "    count += 1\n"
   ]
  },
  {
   "cell_type": "markdown",
   "id": "72d696b7-621f-4102-83aa-2330ba1f8c20",
   "metadata": {},
   "source": [
    "Q6. Write a python program to print the first 10 Fibonacci numbers using a while loop."
   ]
  },
  {
   "cell_type": "code",
   "execution_count": 5,
   "id": "5e02ba7d-fb0e-41b0-bd41-8aad80060db4",
   "metadata": {},
   "outputs": [
    {
     "name": "stdout",
     "output_type": "stream",
     "text": [
      "0 1 1 2 3 5 8 13 21 34 "
     ]
    }
   ],
   "source": [
    "def print_fibonacci(n):\n",
    "    a, b = 0, 1\n",
    "    count = 0\n",
    "    \n",
    "    while count < n:\n",
    "        print(a, end=' ')\n",
    "        a, b = b, a + b\n",
    "        count += 1\n",
    "\n",
    "print_fibonacci(10)\n"
   ]
  },
  {
   "cell_type": "markdown",
   "id": "b8f52d70-7f16-4588-b2b5-89434806ee55",
   "metadata": {},
   "source": [
    "Q7. Write a List Comprehension to iterate through the given string: ‘pwskills’.\n",
    "\n",
    "Expected output: ['p', 'w', 's', 'k', 'i', 'l', 'l', 's']"
   ]
  },
  {
   "cell_type": "code",
   "execution_count": 6,
   "id": "acdb69ae-abff-49fb-818a-bf2f1d888c0c",
   "metadata": {},
   "outputs": [
    {
     "name": "stdout",
     "output_type": "stream",
     "text": [
      "['p', 'w', 's', 'k', 'i', 'l', 'l', 's']\n"
     ]
    }
   ],
   "source": [
    "string = 'pwskills'\n",
    "result = [char for char in string]\n",
    "print(result)\n"
   ]
  },
  {
   "cell_type": "markdown",
   "id": "2b07e59a-bd59-476a-a79c-6d55eb6d55d0",
   "metadata": {},
   "source": [
    "Q8. Write a python program to check whether a given number is Palindrome or not using a while loop."
   ]
  },
  {
   "cell_type": "code",
   "execution_count": 7,
   "id": "9bce3233-d87e-4729-a300-68d06356e4d8",
   "metadata": {},
   "outputs": [
    {
     "name": "stdin",
     "output_type": "stream",
     "text": [
      "Enter a number:  121\n"
     ]
    },
    {
     "name": "stdout",
     "output_type": "stream",
     "text": [
      "121 is a palindrome.\n"
     ]
    }
   ],
   "source": [
    "def is_palindrome(number):\n",
    "    original_number = number\n",
    "    reversed_number = 0\n",
    "    \n",
    "    while number > 0:\n",
    "        digit = number % 10\n",
    "        reversed_number = (reversed_number * 10) + digit\n",
    "        number = number // 10\n",
    "    \n",
    "    return original_number == reversed_number\n",
    "\n",
    "# Example usage\n",
    "num = int(input(\"Enter a number: \"))\n",
    "if is_palindrome(num):\n",
    "    print(f\"{num} is a palindrome.\")\n",
    "else:\n",
    "    print(f\"{num} is not a palindrome.\")\n"
   ]
  },
  {
   "cell_type": "markdown",
   "id": "2891c360-a049-4ca9-a62b-5b1ec0e3741e",
   "metadata": {},
   "source": [
    "Q9. Write a code to print odd numbers from 1 to 100 using list comprehension.\n",
    "Note: Use a list comprehension to create a list from 1 to 100 and use another List comprehension to filter\n",
    "out odd numbers."
   ]
  },
  {
   "cell_type": "code",
   "execution_count": 8,
   "id": "dd3a6e90-3ca0-493d-b70a-a1e73a8b3335",
   "metadata": {},
   "outputs": [
    {
     "name": "stdout",
     "output_type": "stream",
     "text": [
      "[1, 3, 5, 7, 9, 11, 13, 15, 17, 19, 21, 23, 25, 27, 29, 31, 33, 35, 37, 39, 41, 43, 45, 47, 49, 51, 53, 55, 57, 59, 61, 63, 65, 67, 69, 71, 73, 75, 77, 79, 81, 83, 85, 87, 89, 91, 93, 95, 97, 99]\n"
     ]
    }
   ],
   "source": [
    "# Create a list of numbers from 1 to 100\n",
    "numbers = [x for x in range(1, 101)]\n",
    "\n",
    "# Filter out odd numbers\n",
    "odd_numbers = [num for num in numbers if num % 2 != 0]\n",
    "\n",
    "print(odd_numbers)\n"
   ]
  }
 ],
 "metadata": {
  "kernelspec": {
   "display_name": "Python 3 (ipykernel)",
   "language": "python",
   "name": "python3"
  },
  "language_info": {
   "codemirror_mode": {
    "name": "ipython",
    "version": 3
   },
   "file_extension": ".py",
   "mimetype": "text/x-python",
   "name": "python",
   "nbconvert_exporter": "python",
   "pygments_lexer": "ipython3",
   "version": "3.10.8"
  }
 },
 "nbformat": 4,
 "nbformat_minor": 5
}
